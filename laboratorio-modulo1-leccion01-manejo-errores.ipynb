{
 "cells": [
  {
   "cell_type": "markdown",
   "metadata": {},
   "source": [
    "\n",
    "<div style=\"text-align: center;\">\n",
    "  <img src=\"https://github.com/Hack-io-Data/Imagenes/blob/main/01-LogosHackio/logo_celeste@4x.png?raw=true\" alt=\"esquema\" />\n",
    "</div>\n"
   ]
  },
  {
   "cell_type": "markdown",
   "metadata": {},
   "source": [
    "# Laboratorio de Python: manejo de errores."
   ]
  },
  {
   "cell_type": "markdown",
   "metadata": {},
   "source": [
    "## Ejercicio 1: División con manejo de excepciones\n",
    "\n",
    "Escribe un programa que pida al usuario dos números e intente dividirlos. Si el usuario ingresa un valor no numérico o intenta dividir por cero, maneja esas excepciones de manera adecuada. Asegúrate de mostrar un mensaje indicando si la división fue exitosa o no.\n"
   ]
  },
  {
   "cell_type": "code",
   "execution_count": 5,
   "metadata": {},
   "outputs": [
    {
     "name": "stdout",
     "output_type": "stream",
     "text": [
      "La división fue exitosa. El resultado es: 3.3333333333333335\n",
      "El programa se ha completa con exito.\n"
     ]
    }
   ],
   "source": [
    "try:\n",
    "    numero_1 = float(input(\"Ingresa el primer número: \"))\n",
    "    numero_2 = float(input(\"Ingresa el segundo número: \"))\n",
    "    \n",
    "    resultado = numero_1 / numero_2\n",
    "    \n",
    "except ValueError:\n",
    "    print(\"Error: Debes ingresar valores numéricos.\")\n",
    "\n",
    "\n",
    "except ZeroDivisionError:\n",
    "    print(\"Error: No se puede dividir entre cero.\")\n",
    "\n",
    "       \n",
    "else:\n",
    "    print(f\"La división fue exitosa. El resultado es: {resultado}\")\n",
    "    \n",
    "finally:\n",
    "    print(\"El programa se ha completa con exito.\")\n"
   ]
  },
  {
   "cell_type": "markdown",
   "metadata": {},
   "source": [
    "## Ejercicio 2: Acceso a archivos\n",
    "\n",
    "Escribe un programa que intente abrir un archivo llamado \"datos.txt\". Si el archivo no existe, captura la excepción y muestra un mensaje de error. Asegúrate de cerrar el archivo correctamente en la sección `finally`.\n"
   ]
  },
  {
   "cell_type": "code",
   "execution_count": 11,
   "metadata": {},
   "outputs": [
    {
     "name": "stdout",
     "output_type": "stream",
     "text": [
      "Error: El archivo 'datos.txt' no existe.\n",
      "No hay archivo que cerrar.\n"
     ]
    }
   ],
   "source": [
    "try:\n",
    "    archivo_lectura = open(\"datos.txt\")\n",
    "    contenido = archivo_lectura.read()\n",
    "    print(\"Contenido del archivo:\")\n",
    "\n",
    "except FileNotFoundError:\n",
    "    print(\"Error: El archivo 'datos.txt' no existe.\")\n",
    "\n",
    "finally:\n",
    "    try:\n",
    "        archivo_lectura.close()\n",
    "        print(\"El archivo se cerró correctamente.\")\n",
    "    except NameError:\n",
    "        print(\"No hay archivo que cerrar.\")\n"
   ]
  },
  {
   "cell_type": "markdown",
   "metadata": {},
   "source": [
    "## Ejercicio 3: Conversión de cadenas a enteros\n",
    "\n",
    "Escribe un programa que pida una lista de números separados por comas y convierta cada valor a un número entero. Maneja las excepciones para valores que no sean convertibles y asegúrate de informar si la conversión fue exitosa o no.\n"
   ]
  },
  {
   "cell_type": "code",
   "execution_count": 14,
   "metadata": {},
   "outputs": [
    {
     "name": "stdout",
     "output_type": "stream",
     "text": [
      "Error: 'dos' no es un número válido.\n",
      "La conversión fue exitosa. Lista de números: [1, 4, 17]\n"
     ]
    }
   ],
   "source": [
    "lista_entrada = input(\"Inserta una lista de numero enteros: \")\n",
    "\n",
    "numeros_str = lista_entrada.split(\",\")\n",
    "\n",
    "numeros = []\n",
    "\n",
    "for numero_str in numeros_str:\n",
    "    try:\n",
    "        numero = int(numero_str.strip()) \n",
    "        numeros.append(numero)\n",
    "    except ValueError:\n",
    "        print(f\"Error: '{numero_str}' no es un número válido.\")\n",
    "\n",
    "if numeros:\n",
    "    print(\"La conversión fue exitosa. Lista de números:\", numeros)\n",
    "else:\n",
    "    print(\"No se pudo realizar ninguna conversión válida.\")\n"
   ]
  },
  {
   "cell_type": "markdown",
   "metadata": {},
   "source": [
    "#### Ejercicio 4: Cálculo del promedio con manejo de excepciones\n",
    "\n",
    "Escribe una función que reciba una lista de números y calcule su promedio. Si la lista está vacía, lanza una excepción personalizada y maneja el error adecuadamente.\n"
   ]
  },
  {
   "cell_type": "code",
   "execution_count": 53,
   "metadata": {},
   "outputs": [
    {
     "name": "stdout",
     "output_type": "stream",
     "text": [
      "El promedio de la lista es: 88.75\n"
     ]
    }
   ],
   "source": [
    "numeros = [41, 55, 99, 160]  \n",
    "\n",
    "def calcular_promedio(numeros):\n",
    "    if not numeros: \n",
    "        raise ListaVaciaError()  \n",
    "    return sum(numeros) / len(numeros)\n",
    "\n",
    "try:\n",
    "    print(f\"El promedio de la lista es: {promedio}\")\n",
    "\n",
    "except ListaVaciaError as introduccion:\n",
    "    print(f\"Error: {introduccion}\")\n",
    "\n",
    "except Exception as introduccion:\n",
    "    print(f\"Error inesperado: {introduccion}\")\n",
    "\n",
    "promedio = calcular_promedio(numeros)\n"
   ]
  },
  {
   "cell_type": "markdown",
   "metadata": {},
   "source": [
    "#### Ejercicio 5: Conversión segura de números\n",
    "\n",
    "Escribe un programa que convierta una cadena a número flotante e intente realizar una operación aritmética. Si la conversión falla, maneja la excepción y continúa con el flujo normal."
   ]
  },
  {
   "cell_type": "code",
   "execution_count": 57,
   "metadata": {},
   "outputs": [
    {
     "name": "stdout",
     "output_type": "stream",
     "text": [
      "Error: ' ' no es un número válido.\n",
      "No se pudo realizar la operación aritmética debido a una conversión fallida.\n"
     ]
    }
   ],
   "source": [
    "def convierte_cadena(cadena):\n",
    "    try:\n",
    "        return float(cadena)  \n",
    "    except ValueError:\n",
    "        print(f\"Error: '{cadena}' no es un número válido.\")\n",
    "        return None  \n",
    "\n",
    "cadena = input(\"Ingresa un número: \")\n",
    "\n",
    "numero = convierte_cadena(cadena)\n",
    "\n",
    "if numero is not None:\n",
    "    resultado = numero * 5  \n",
    "    print(f\"El resultado de multiplicar {cadena} por 5 es: {resultado}\")\n",
    "else:\n",
    "    print(\"No se pudo realizar la operación aritmética debido a una conversión fallida.\")\n"
   ]
  },
  {
   "cell_type": "markdown",
   "metadata": {},
   "source": [
    "#### Ejercicio 6: Acceso a claves en diccionarios\n",
    "\n",
    "Escribe un programa que intente acceder a una clave específica en un diccionario. Si la clave no existe, maneja la excepción `KeyError` y muestra un mensaje indicando el problema."
   ]
  },
  {
   "cell_type": "code",
   "execution_count": 61,
   "metadata": {},
   "outputs": [
    {
     "name": "stdout",
     "output_type": "stream",
     "text": [
      "Error: La clave 'trabajo' no existe en el diccionario.\n",
      "Operación finalizada.\n"
     ]
    }
   ],
   "source": [
    "diccionario = {\"nombre\": \"Quique\",\"edad\": 41,\"ciudad\": \"Ontinyent\"}\n",
    "\n",
    "introducir_clave = input(\"Ingresa la clave que deseas buscar en el diccionario: \")\n",
    "\n",
    "try:\n",
    "    valor = diccionario[introducir_clave]\n",
    "    print(f\"El valor asociado a la clave '{introducir_clave}' es: {valor}\")\n",
    "\n",
    "except KeyError:\n",
    "    print(f\"Error: La clave '{introducir_clave}' no existe en el diccionario.\")\n",
    "\n",
    "finally:\n",
    "    # Mensaje final\n",
    "    print(\"Operación finalizada.\")\n",
    "\n"
   ]
  },
  {
   "cell_type": "markdown",
   "metadata": {},
   "source": [
    "\n",
    "#### Ejercicio 7: Verificación de entradas de usuario\n",
    "\n",
    "Escribe un programa que pida al usuario que introduzca su edad. Si el usuario ingresa un valor no numérico o un valor fuera del rango esperado (por ejemplo, menor que 0 o mayor que 120), maneja las excepciones adecuadamente."
   ]
  },
  {
   "cell_type": "code",
   "execution_count": 2,
   "metadata": {},
   "outputs": [
    {
     "name": "stdout",
     "output_type": "stream",
     "text": [
      "Gracias, has ingresado una edad válida: 41 años.\n"
     ]
    }
   ],
   "source": [
    "def pedir_edad():\n",
    "    while True:  \n",
    "        try:\n",
    "            edad = int(input(\"Por favor, introduce tu edad: \"))\n",
    "\n",
    "            if edad < 0 or edad > 120:\n",
    "                raise ValueError(\"La edad debe estar entre 0 y 120 años.\")\n",
    "            \n",
    "            return edad\n",
    "\n",
    "        except ValueError as e:\n",
    "            print(f\"Entrada inválida: {e}. Introduce una edad válida.\")\n",
    "\n",
    "edad = pedir_edad()\n",
    "print(f\"Gracias, has ingresado una edad válida: {edad} años.\")\n"
   ]
  },
  {
   "cell_type": "markdown",
   "metadata": {},
   "source": [
    "#### Ejercicio 8: Extracción de valores de una lista\n",
    "\n",
    "Escribe una función que intente acceder a un índice específico en una lista. Si el índice está fuera del rango, maneja la excepción `IndexError` y muestra un mensaje adecuado.\n"
   ]
  },
  {
   "cell_type": "code",
   "execution_count": 8,
   "metadata": {},
   "outputs": [
    {
     "name": "stdout",
     "output_type": "stream",
     "text": [
      "El valor en el índice 3 es: 41\n"
     ]
    }
   ],
   "source": [
    "lista_numeros = [105, 204, 33, 41, 67]\n",
    "\n",
    "def acceder_a_indice(lista, indice):\n",
    "    try:\n",
    "        valor = lista[indice]\n",
    "        return valor\n",
    "    except IndexError:\n",
    "        print(f\"Error: El índice {indice} está fuera del rango de la lista.\")\n",
    "        return None  \n",
    "\n",
    "\n",
    "indice_introducido = int(input(\"Ingresa el índice que deseas acceder: \"))\n",
    "\n",
    "resultado = acceder_a_indice(lista_numeros, indice_introducido)\n",
    "\n",
    "if resultado is not None:\n",
    "    print(f\"El valor en el índice {indice_introducido} es: {resultado}\")\n",
    "else:\n",
    "    print(\"No se pudo acceder al valor debido a un índice fuera de rango.\")\n",
    "\n"
   ]
  }
 ],
 "metadata": {
  "kernelspec": {
   "display_name": "Python 3",
   "language": "python",
   "name": "python3"
  },
  "language_info": {
   "codemirror_mode": {
    "name": "ipython",
    "version": 3
   },
   "file_extension": ".py",
   "mimetype": "text/x-python",
   "name": "python",
   "nbconvert_exporter": "python",
   "pygments_lexer": "ipython3",
   "version": "3.11.4"
  }
 },
 "nbformat": 4,
 "nbformat_minor": 2
}
